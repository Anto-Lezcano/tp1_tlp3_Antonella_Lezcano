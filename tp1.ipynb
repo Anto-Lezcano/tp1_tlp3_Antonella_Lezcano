{
 "cells": [
  {
   "cell_type": "markdown",
   "metadata": {},
   "source": [
    "# Criterios de evaluación.\n",
    "\n",
    "* Se deben utilizar nombres de variables descriptivos y claros (Utilizar la nomeclatura correspondiente para los nombres de variables).\n",
    "* Comentarios claros y concisos que expliquen el propósito de cada sección del código.\n",
    "* Entrega en tiempo y forma.\n",
    "* Todo el código desarrollado debe ser subido a un repositorio en GitHub (el nombre del repositorio de seguir la siguiente estructura: tp1_tlp3_nombre_apellido).\n",
    "\n",
    "\n",
    "**Aclaración: Para resolver las actividades se debe incertar casillas de codigo entre cada actividad del cuaderno de Jupyter**"
   ]
  },
  {
   "cell_type": "markdown",
   "metadata": {},
   "source": [
    "### 1. **Hola Mundo y Variables**\n",
    "\n",
    "   - **Actividad 1.1**: Deben escribir un programa que imprima \"¡Hola, Mundo!\" en la consola.\n",
    "   - **Actividad 1.2**: Deben crear una variable llamada `nombre` y hacer que el programa imprima un saludo personalizado: `Hola, <nombre>!`"
   ]
  },
  {
   "cell_type": "code",
   "execution_count": null,
   "metadata": {},
   "outputs": [
    {
     "name": "stdout",
     "output_type": "stream",
     "text": [
      "¡Hola, Mundo!\n",
      "Hola, Maria!\n"
     ]
    }
   ],
   "source": [
    "\n",
    "# Actividad 1.1\n",
    "print('¡Hola, Mundo!')\n",
    "# Actividad 1.2\n",
    "name = input(\"Ingrese su nombre: \")\n",
    "print(f'Hola, {name}!')"
   ]
  },
  {
   "cell_type": "markdown",
   "metadata": {},
   "source": [
    "### 2. **Operaciones Matemáticas Básicas**\n",
    "\n",
    "   - **Actividad 1.1**: Crear un programa que pida al usuario dos números y realice las cuatro operaciones matemáticas básicas (suma, resta, multiplicación y división), imprimiendo los resultados.\n",
    "   - **Actividad 1.2**: Hacer que el programa calcule el promedio de los dos números."
   ]
  },
  {
   "cell_type": "code",
   "execution_count": null,
   "metadata": {},
   "outputs": [
    {
     "name": "stdout",
     "output_type": "stream",
     "text": [
      "Realice calculos basicos(suma, resta, division y multiplicacion) y su promedio con dos numeros\n",
      "Los numeros ingresados fueron 15.0 y 2.0 \n",
      "\n",
      "    El resultado de la suma es 17.0.\n",
      "    El resultado de la resta es 13.0.\n",
      "    El resultado de la multiplicacion es 30.0. \n",
      "    El resultado de la division es 7.5.\n",
      "    \n",
      "El promedio de 15.0 y 2.0 es: 8.5\n"
     ]
    }
   ],
   "source": [
    "\n",
    "# Actividad 1.1 \n",
    "print('Realice calculos basicos(suma, resta, division y multiplicacion) y su promedio con dos numeros')\n",
    "a = float(input('Ingrese el primer numero: '))\n",
    "b = float(input('Ingrese el segundo numero: '))\n",
    "\n",
    "sum = a + b\n",
    "rest = a - b\n",
    "mult = a * b\n",
    "div = a / b\n",
    "\n",
    "print(f\"\"\"Los numeros ingresados fueron {a} y {b}:\n",
    "      \n",
    "    El resultado de la suma es {sum}.\n",
    "    El resultado de la resta es {rest}.\n",
    "    El resultado de la multiplicacion es {mult}. \n",
    "    El resultado de la division es {div}.\n",
    "    \"\"\")\n",
    "\n",
    "#Actividad 1.2\n",
    "prom = sum / 2\n",
    "print(f'El promedio de {a} y {b} es: {prom}')\n"
   ]
  },
  {
   "cell_type": "markdown",
   "metadata": {},
   "source": [
    "### 3. **Condicionales (if-else)**\n",
    "\n",
    "   - **Actividad 1.1**: Escribir un programa que pida al usuario su edad y le diga si es mayor de edad (18 años o más).\n",
    "   - **Actividad 1.2**: Agregar un mensaje diferente para diferentes rangos de edad, como por ejemplo, si es un niño, adolescente o adulto."
   ]
  },
  {
   "cell_type": "code",
   "execution_count": 16,
   "metadata": {},
   "outputs": [
    {
     "name": "stdout",
     "output_type": "stream",
     "text": [
      "Se encuentra en la niñes\n"
     ]
    }
   ],
   "source": [
    "\n",
    "# Actividad 1.1 y 1.2\n",
    "age = int(input('Ingrese su edad:'))\n",
    "\n",
    "if age <= 13:\n",
    "    print('Se encuentra en la niñes')\n",
    "elif age > 12 and age < 18:\n",
    "    print('Se encuentra en la adolescencia')\n",
    "else:\n",
    "    print('Usted es mayor de edad')\n",
    "    print('Se encuentra en la adultes')\n",
    "    "
   ]
  },
  {
   "cell_type": "markdown",
   "metadata": {},
   "source": [
    "### 4. **Ciclos (while, for)**\n",
    "\n",
    "   - **Actividad 1.1**: Escribir un programa que imprima los números del 1 al 10 usando un bucle `for`.\n",
    "   - **Actividad 1.2**: Usar un bucle `while` para imprimir los números del 1 al 10, e imprimir solo aquellos números que sean divisibles por 2."
   ]
  },
  {
   "cell_type": "code",
   "execution_count": null,
   "metadata": {},
   "outputs": [
    {
     "name": "stdout",
     "output_type": "stream",
     "text": [
      "1\n",
      "2\n",
      "3\n",
      "4\n",
      "5\n",
      "6\n",
      "7\n",
      "8\n",
      "9\n",
      "10\n",
      "2\n",
      "4\n",
      "6\n",
      "8\n",
      "10\n"
     ]
    }
   ],
   "source": [
    "\n",
    "# Actividad 1.1\n",
    "for i in range(10):\n",
    "    print(i+1)\n",
    "\n",
    "# Actividad 1.2\n",
    "count = 1\n",
    "\n",
    "while count <= 10:\n",
    "    if count % 2 == 0:\n",
    "        print(count)\n",
    "    count = count + 1"
   ]
  },
  {
   "cell_type": "markdown",
   "metadata": {},
   "source": [
    "### 5. **Listas y Bucles**\n",
    "\n",
    "   - **Actividad 1.1**: Crear una lista con 5 números y escribir un programa que imprima cada número de la lista usando un bucle `for`.\n",
    "   - **Actividad 1.2**: Usar un bucle para calcular la suma de los números de la lista."
   ]
  },
  {
   "cell_type": "code",
   "execution_count": null,
   "metadata": {},
   "outputs": [
    {
     "name": "stdout",
     "output_type": "stream",
     "text": [
      "La lista es [1, 2, 3, 4, 5]\n",
      "La suma de la lista es 15\n"
     ]
    }
   ],
   "source": [
    "lista = [1,2,3,4,5]\n",
    "suma = 0\n",
    "\n",
    "for numer in lista:\n",
    "    suma += numer\n",
    "    print(\"La lista es\", lista)\n",
    "    print(\"La suma de la lista es\", suma)\n",
    "    \n"
   ]
  },
  {
   "cell_type": "markdown",
   "metadata": {},
   "source": [
    "### 6. **Funciones**\n",
    "\n",
    "   - **Actividad 1.1**: Escribir una función llamada `saludo` que reciba un nombre como parámetro y devuelva un saludo personalizado.\n",
    "   - **Actividad 1.2**: Crear una función que reciba dos números y devuelva su suma, resta, multiplicación y división."
   ]
  },
  {
   "cell_type": "code",
   "execution_count": 41,
   "metadata": {},
   "outputs": [
    {
     "name": "stdout",
     "output_type": "stream",
     "text": [
      "¡Bienvenido/a anto!\n",
      "anto, Ingresa dos numeros para: sumar, restar, dividir y multiplicar\n",
      "Los numeros ingresados fueron 3.0 y 4.0:\n",
      "    El resultado de la suma es 7.0.\n",
      "    El resultado de la resta es -1.0.\n",
      "    El resultado de la multiplicacion es 12.0. \n",
      "    El resultado de la division es 0.75.\n",
      "    \n"
     ]
    }
   ],
   "source": [
    "nombre = input('Ingrese su nombre: ')\n",
    "\n",
    "def saludo_personalizado(nombre):\n",
    "    print(f'¡Bienvenido/a {nombre}!')\n",
    "\n",
    "saludo_personalizado(nombre)\n",
    "\n",
    "def calculos(a, b):\n",
    "    sum = a + b\n",
    "    rest = a - b\n",
    "    mult = a * b\n",
    "    div = a / b\n",
    "    print(f\"\"\"Los numeros ingresados fueron {a} y {b}:\n",
    "    El resultado de la suma es {sum}.\n",
    "    El resultado de la resta es {rest}.\n",
    "    El resultado de la multiplicacion es {mult}. \n",
    "    El resultado de la division es {div}.\n",
    "    \"\"\")\n",
    "\n",
    "print(f'{nombre}, Ingresa dos numeros para: sumar, restar, dividir y multiplicar')\n",
    "\n",
    "a = float(input('Ingrese el primer numero: '))\n",
    "b = float(input('Ingrese el segundo numero: '))\n",
    "\n",
    "calculos(a, b)\n",
    "\n"
   ]
  },
  {
   "cell_type": "markdown",
   "metadata": {},
   "source": [
    "### 7. **Manejo de cadenas de texto**\n",
    "\n",
    "   - **Actividad 1.1**: Escribir un programa que pida al usuario su nombre y lo imprima en mayúsculas y en minúsculas.\n",
    "   - **Actividad 1.2**: Hacer que el programa imprima la longitud del nombre ingresado (no tener en cuenta los espacios en blanco)."
   ]
  },
  {
   "cell_type": "code",
   "execution_count": 50,
   "metadata": {},
   "outputs": [
    {
     "name": "stdout",
     "output_type": "stream",
     "text": [
      "ANTO LE\n",
      "anto le\n",
      "6\n"
     ]
    }
   ],
   "source": [
    "nombre = str(input(\"Ingrese su nombre: \"))\n",
    "print(nombre.upper())\n",
    "print(nombre.lower())\n",
    "print(len(nombre.replace(\" \", \"\")))"
   ]
  },
  {
   "cell_type": "markdown",
   "metadata": {},
   "source": [
    "### 8. **Diccionarios**\n",
    "\n",
    "   - **Actividad1.1**: Crear un diccionario que contenga los nombres de tres personas como claves y sus edades como valores. El programa debe imprimir la edad de cada persona.\n",
    "   - **Actividad1.2**: Escribir un programa que pregunte al usuario un nombre, luego su edad y los agregue al diccionario."
   ]
  },
  {
   "cell_type": "code",
   "execution_count": null,
   "metadata": {},
   "outputs": [
    {
     "name": "stdout",
     "output_type": "stream",
     "text": [
      "Las de edade de estas persona son: \n",
      "Mauri y tu edad es 20\n",
      "Luana y tu edad es 16\n",
      "Marcelo y tu edad es 36\n",
      "Jose y tu edad es 32\n"
     ]
    }
   ],
   "source": [
    "diccionario = { \"Mauri\": 20 ,\"Luana\": 16, \"Marcelo\": 36 }\n",
    "\n",
    "print(\"Las de edade de estas persona son: \")\n",
    "nombre = str(input(\"Ingrese su nombre\"))\n",
    "edad = int(input('Ingrese su edad'))\n",
    "\n",
    "diccionario[nombre] = edad\n",
    "\n",
    "for nombre , edad in diccionario.items():\n",
    "    print(f\"{nombre} y la edad es {edad}\")\n"
   ]
  },
  {
   "cell_type": "markdown",
   "metadata": {},
   "source": [
    "### 9. **Números aleatorios**\n",
    "\n",
    "   - **Actividad 1.1**: Escribir un programa que genere 5 números aleatorios entre 1 y 100, lo imprima por consola y diga si es mayor o menor a 50.\n",
    "   - **Actividad 1.2**: Sumar los 5 números generados aleatoriamente y en caso de que el resultado sea mayor a 100, mostrar el valor antes de ser mayor a 100 y cuantos números se sumaron para llegar a dicho valor."
   ]
  },
  {
   "cell_type": "code",
   "execution_count": 85,
   "metadata": {},
   "outputs": [
    {
     "name": "stdout",
     "output_type": "stream",
     "text": [
      "Numeros generados: \n",
      "numero 1: 63\n",
      "La suma total es 63, que no supera 100\n",
      "Se sumaron los 5 numeros\n",
      "numero 2: 60\n",
      "numero 3: 54\n",
      "numero 4: 76\n",
      "numero 5: 66\n"
     ]
    }
   ],
   "source": [
    "import random\n",
    "sum = 0\n",
    "num_sumados = 0\n",
    "sum_menor_100 = 0\n",
    "\n",
    "print('Numeros generados: ')\n",
    "for i in range(5):\n",
    "    numero = random.randint(1, 100)\n",
    "    print(f'numero {i+1}: {numero}')\n",
    "    \n",
    "    if sum <= 100:\n",
    "        sum_menor_100 = sum \n",
    "        \n",
    "        sum += numero\n",
    "        num_sumados += 1\n",
    "    \n",
    "    if sum > 100 and num_sumados == 1:\n",
    "        print(f'Al sumar el numero {num_sumados}, la suma total es {sum}, superando 100')\n",
    "        print(f'La ultima suma menor a 100 fue {sum_menor_100}')\n",
    "        print(f'Se sumaron {num_sumados} los numeros para superar 100')\n",
    "        break\n",
    "    \n",
    "    if sum <= 100:\n",
    "        print(f'La suma total es {sum}, que no supera 100')\n",
    "        print(f'Se sumaron los 5 numeros')"
   ]
  },
  {
   "cell_type": "markdown",
   "metadata": {},
   "source": [
    "### 10. **Proyecto Final: Calculadora**\n",
    "\n",
    "   - **Actividad 1.1**: Los estudiantes deben crear una calculadora básica que permita realizar operaciones de suma, resta, multiplicación y división con entradas del usuario. El programa debe pedir al usuario que elija la operación y luego introducir 2 números para realizar el cálculo.\n",
    "   - **Actividad 1.2**: Implementar una opción para que el usuario pueda continuar haciendo cálculos o salir del programa."
   ]
  },
  {
   "cell_type": "code",
   "execution_count": null,
   "metadata": {},
   "outputs": [
    {
     "name": "stdout",
     "output_type": "stream",
     "text": [
      "3.0 + 3.0 = 6.0\n",
      "8.0 / 7.0 = 1.1428571428571428\n"
     ]
    }
   ],
   "source": [
    "jugador = True\n",
    "\n",
    "while jugador:\n",
    "    \n",
    "# todo: Resolución\n",
    "    a = float(input('Ingrese el primer numero'))\n",
    "    b = float(input('Ingrese el segundo numero'))\n",
    "    res = 0\n",
    "\n",
    "    op = int(input(\"\"\"Ingrese la operacion que desee realizar :\n",
    "            1.Suma\n",
    "            2.Resta\n",
    "            3.Multiplicacion\n",
    "            4.Division\n",
    "            \"\"\"))\n",
    "\n",
    "    match op:\n",
    "        case 1:\n",
    "            res = a + b\n",
    "            print(f'{a} + {b} = {res}')\n",
    "        case 2:\n",
    "            res = a - b\n",
    "            print(f'{a} - {b} = {res}')\n",
    "        case 3:\n",
    "            res = a * b\n",
    "            print(f'{a} * {b} = {res}')\n",
    "        case 4: \n",
    "            res = a / b\n",
    "            print(f'{a} / {b} = {res}')\n",
    "            \n",
    "    jugar = input(\"desea hacer otra operacion ingresar si o no : \")\n",
    "    \n",
    "    if jugar.lower() == 'si':\n",
    "        jugador = True\n",
    "    else:\n",
    "        jugador = False\n",
    "\n"
   ]
  },
  {
   "cell_type": "markdown",
   "metadata": {},
   "source": [
    "### EXTRA. **Juegos Simples (Adivina el número)**\n",
    "\n",
    "   - **Actividad 1.1**: Escribir un juego donde el programa elija un número aleatorio entre 1 y 100 y el usuario tenga que adivinarlo. El programa debe dar pistas si el número es mayor o menor.\n",
    "   - **Actividad 1.2**: Limitar el número de intentos y mostrar un mensaje de éxito o fracaso al final."
   ]
  },
  {
   "cell_type": "code",
   "execution_count": null,
   "metadata": {},
   "outputs": [],
   "source": []
  }
 ],
 "metadata": {
  "kernelspec": {
   "display_name": "Python 3",
   "language": "python",
   "name": "python3"
  },
  "language_info": {
   "codemirror_mode": {
    "name": "ipython",
    "version": 3
   },
   "file_extension": ".py",
   "mimetype": "text/x-python",
   "name": "python",
   "nbconvert_exporter": "python",
   "pygments_lexer": "ipython3",
   "version": "3.13.2"
  }
 },
 "nbformat": 4,
 "nbformat_minor": 2
}
